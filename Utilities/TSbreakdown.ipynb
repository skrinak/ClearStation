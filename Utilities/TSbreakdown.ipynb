{
 "cells": [
  {
   "cell_type": "markdown",
   "metadata": {},
   "source": [
    "Understanding timeseries"
   ]
  },
  {
   "cell_type": "code",
   "execution_count": 75,
   "metadata": {},
   "outputs": [],
   "source": [
    "import os\n",
    "import sys\n",
    "import json\n",
    "import zipfile\n",
    "import numpy as np\n",
    "import pandas as pd\n",
    "from urllib.request import urlretrieve"
   ]
  },
  {
   "cell_type": "code",
   "execution_count": 11,
   "metadata": {},
   "outputs": [
    {
     "name": "stdout",
     "output_type": "stream",
     "text": [
      "File found skipping download\n"
     ]
    }
   ],
   "source": [
    "DATA_HOST = \"https://archive.ics.uci.edu\"\n",
    "DATA_PATH = \"/ml/machine-learning-databases/00321/\"\n",
    "ARCHIVE_NAME = \"LD2011_2014.txt.zip\"\n",
    "FILE_NAME = ARCHIVE_NAME[:-4]\n",
    "\n",
    "def progress_report_hook(count, block_size, total_size):\n",
    "    mb = int(count * block_size // 1e6)\n",
    "    if count % 500 == 0:\n",
    "        sys.stdout.write(\"\\r{} MB downloaded\".format(mb))\n",
    "        sys.stdout.flush()\n",
    "\n",
    "if not os.path.isfile(FILE_NAME):\n",
    "    print(\"downloading dataset (258MB), can take a few minutes depending on your connection\")\n",
    "    urlretrieve(DATA_HOST + DATA_PATH + ARCHIVE_NAME, ARCHIVE_NAME, reporthook=progress_report_hook)\n",
    "\n",
    "    print(\"\\nextracting data archive\")\n",
    "    zip_ref = zipfile.ZipFile(ARCHIVE_NAME, 'r')\n",
    "    zip_ref.extractall(\"./\")\n",
    "    zip_ref.close()\n",
    "else:\n",
    "    print(\"File found skipping download\")"
   ]
  },
  {
   "cell_type": "code",
   "execution_count": 13,
   "metadata": {},
   "outputs": [
    {
     "data": {
      "text/plain": [
       "<bound method NDFrame.head of                        MT_001     MT_002    MT_003      MT_004     MT_005  \\\n",
       "2011-01-01 00:15:00  0.000000   0.000000  0.000000    0.000000   0.000000   \n",
       "2011-01-01 00:30:00  0.000000   0.000000  0.000000    0.000000   0.000000   \n",
       "2011-01-01 00:45:00  0.000000   0.000000  0.000000    0.000000   0.000000   \n",
       "2011-01-01 01:00:00  0.000000   0.000000  0.000000    0.000000   0.000000   \n",
       "2011-01-01 01:15:00  0.000000   0.000000  0.000000    0.000000   0.000000   \n",
       "...                       ...        ...       ...         ...        ...   \n",
       "2014-12-31 23:00:00  2.538071  22.048364  1.737619  150.406504  85.365854   \n",
       "2014-12-31 23:15:00  2.538071  21.337127  1.737619  166.666667  81.707317   \n",
       "2014-12-31 23:30:00  2.538071  20.625889  1.737619  162.601626  82.926829   \n",
       "2014-12-31 23:45:00  1.269036  21.337127  1.737619  166.666667  85.365854   \n",
       "2015-01-01 00:00:00  2.538071  19.914651  1.737619  178.861789  84.146341   \n",
       "\n",
       "                         MT_006     MT_007      MT_008     MT_009     MT_010  \\\n",
       "2011-01-01 00:15:00    0.000000   0.000000    0.000000   0.000000   0.000000   \n",
       "2011-01-01 00:30:00    0.000000   0.000000    0.000000   0.000000   0.000000   \n",
       "2011-01-01 00:45:00    0.000000   0.000000    0.000000   0.000000   0.000000   \n",
       "2011-01-01 01:00:00    0.000000   0.000000    0.000000   0.000000   0.000000   \n",
       "2011-01-01 01:15:00    0.000000   0.000000    0.000000   0.000000   0.000000   \n",
       "...                         ...        ...         ...        ...        ...   \n",
       "2014-12-31 23:00:00  303.571429  11.305822  282.828283  68.181818  72.043011   \n",
       "2014-12-31 23:15:00  324.404762  11.305822  252.525253  64.685315  72.043011   \n",
       "2014-12-31 23:30:00  318.452381  10.175240  242.424242  61.188811  74.193548   \n",
       "2014-12-31 23:45:00  285.714286  10.175240  225.589226  64.685315  72.043011   \n",
       "2015-01-01 00:00:00  279.761905  10.175240  249.158249  62.937063  69.892473   \n",
       "\n",
       "                     ...      MT_361   MT_362       MT_363       MT_364  \\\n",
       "2011-01-01 00:15:00  ...    0.000000      0.0     0.000000     0.000000   \n",
       "2011-01-01 00:30:00  ...    0.000000      0.0     0.000000     0.000000   \n",
       "2011-01-01 00:45:00  ...    0.000000      0.0     0.000000     0.000000   \n",
       "2011-01-01 01:00:00  ...    0.000000      0.0     0.000000     0.000000   \n",
       "2011-01-01 01:15:00  ...    0.000000      0.0     0.000000     0.000000   \n",
       "...                  ...         ...      ...          ...          ...   \n",
       "2014-12-31 23:00:00  ...  276.945039  28200.0  1616.033755  1363.636364   \n",
       "2014-12-31 23:15:00  ...  279.800143  28300.0  1569.620253  1340.909091   \n",
       "2014-12-31 23:30:00  ...  284.796574  27800.0  1556.962025  1318.181818   \n",
       "2014-12-31 23:45:00  ...  246.252677  28000.0  1443.037975   909.090909   \n",
       "2015-01-01 00:00:00  ...  188.436831  27800.0  1409.282700   954.545455   \n",
       "\n",
       "                        MT_365    MT_366      MT_367      MT_368      MT_369  \\\n",
       "2011-01-01 00:15:00   0.000000  0.000000    0.000000    0.000000    0.000000   \n",
       "2011-01-01 00:30:00   0.000000  0.000000    0.000000    0.000000    0.000000   \n",
       "2011-01-01 00:45:00   0.000000  0.000000    0.000000    0.000000    0.000000   \n",
       "2011-01-01 01:00:00   0.000000  0.000000    0.000000    0.000000    0.000000   \n",
       "2011-01-01 01:15:00   0.000000  0.000000    0.000000    0.000000    0.000000   \n",
       "...                        ...       ...         ...         ...         ...   \n",
       "2014-12-31 23:00:00  29.986962  5.851375  697.102722  176.961603  651.026393   \n",
       "2014-12-31 23:15:00  29.986962  9.947338  671.641791  168.614357  669.354839   \n",
       "2014-12-31 23:30:00  27.379400  9.362200  670.763828  153.589316  670.087977   \n",
       "2014-12-31 23:45:00  26.075619  4.095963  664.618086  146.911519  646.627566   \n",
       "2015-01-01 00:00:00  27.379400  4.095963  628.621598  131.886477  673.020528   \n",
       "\n",
       "                          MT_370  \n",
       "2011-01-01 00:15:00     0.000000  \n",
       "2011-01-01 00:30:00     0.000000  \n",
       "2011-01-01 00:45:00     0.000000  \n",
       "2011-01-01 01:00:00     0.000000  \n",
       "2011-01-01 01:15:00     0.000000  \n",
       "...                          ...  \n",
       "2014-12-31 23:00:00  7621.621622  \n",
       "2014-12-31 23:15:00  6702.702703  \n",
       "2014-12-31 23:30:00  6864.864865  \n",
       "2014-12-31 23:45:00  6540.540541  \n",
       "2015-01-01 00:00:00  7135.135135  \n",
       "\n",
       "[140256 rows x 370 columns]>"
      ]
     },
     "execution_count": 13,
     "metadata": {},
     "output_type": "execute_result"
    }
   ],
   "source": [
    "data = pd.read_csv(FILE_NAME, sep=\";\", index_col=0, parse_dates=True, decimal=',')"
   ]
  },
  {
   "cell_type": "code",
   "execution_count": 16,
   "metadata": {},
   "outputs": [
    {
     "name": "stdout",
     "output_type": "stream",
     "text": [
      "(140256, 370)\n",
      "              MT_001         MT_002         MT_003         MT_004  \\\n",
      "count  140256.000000  140256.000000  140256.000000  140256.000000   \n",
      "mean        3.970785      20.768480       2.918308      82.184490   \n",
      "std         5.983965      13.272415      11.014456      58.248392   \n",
      "min         0.000000       0.000000       0.000000       0.000000   \n",
      "25%         0.000000       2.844950       0.000000      36.585366   \n",
      "50%         1.269036      24.893314       1.737619      87.398374   \n",
      "75%         2.538071      29.871977       1.737619     115.853659   \n",
      "max        48.223350     115.220484     151.172893     321.138211   \n",
      "\n",
      "              MT_005         MT_006         MT_007         MT_008  \\\n",
      "count  140256.000000  140256.000000  140256.000000  140256.000000   \n",
      "mean       37.240309     141.227385       4.521338     191.401476   \n",
      "std        26.461327      98.439984       6.485684     121.981187   \n",
      "min         0.000000       0.000000       0.000000       0.000000   \n",
      "25%        15.853659      71.428571       0.565291     111.111111   \n",
      "50%        39.024390     157.738095       2.826456     222.222222   \n",
      "75%        54.878049     205.357143       4.522329     279.461279   \n",
      "max       150.000000     535.714286      44.657999     552.188552   \n",
      "\n",
      "              MT_009         MT_010  ...         MT_361         MT_362  \\\n",
      "count  140256.000000  140256.000000  ...  140256.000000  140256.000000   \n",
      "mean       39.975354      42.205152  ...     218.213701   37607.987537   \n",
      "std        29.814595      33.401251  ...     204.833532   38691.954832   \n",
      "min         0.000000       0.000000  ...       0.000000       0.000000   \n",
      "25%        13.986014       9.677419  ...       5.710207       0.000000   \n",
      "50%        40.209790      40.860215  ...     131.334761   24100.000000   \n",
      "75%        57.692308      61.290323  ...     403.283369   54800.000000   \n",
      "max       157.342657     198.924731  ...     852.962170  192800.000000   \n",
      "\n",
      "              MT_363         MT_364         MT_365         MT_366  \\\n",
      "count  140256.000000  140256.000000  140256.000000  140256.000000   \n",
      "mean     1887.427366    2940.031734      65.413150       9.269709   \n",
      "std      1801.486488    2732.251967      65.007818      10.016782   \n",
      "min         0.000000       0.000000       0.000000       0.000000   \n",
      "25%         0.000000       0.000000      13.037810       0.000000   \n",
      "50%      1050.632911    2136.363636      31.290743       7.021650   \n",
      "75%      3312.236287    5363.636364     108.213820      11.702750   \n",
      "max      7751.054852   12386.363636     335.071708      60.269163   \n",
      "\n",
      "              MT_367         MT_368         MT_369         MT_370  \n",
      "count  140256.000000  140256.000000  140256.000000  140256.000000  \n",
      "mean      424.262904      94.704717     625.251734    8722.355145  \n",
      "std       274.337122      80.297301     380.656042    9195.155777  \n",
      "min         0.000000       0.000000       0.000000       0.000000  \n",
      "25%         0.000000      30.050083      83.944282       0.000000  \n",
      "50%       525.899912      76.794658     758.064516       0.000000  \n",
      "75%       627.743635     151.919866     875.366569   17783.783784  \n",
      "max      1138.718174     362.270451    1549.120235   30918.918919  \n",
      "\n",
      "[8 rows x 370 columns]\n"
     ]
    }
   ],
   "source": [
    "print(data.shape)\n",
    "print(data.describe())\n",
    "# print(data.head)"
   ]
  },
  {
   "cell_type": "code",
   "execution_count": 19,
   "metadata": {},
   "outputs": [
    {
     "name": "stdout",
     "output_type": "stream",
     "text": [
      "                     MT_001  MT_002  MT_003  MT_004  MT_005  MT_006  MT_007  \\\n",
      "2011-01-01 00:15:00     0.0     0.0     0.0     0.0     0.0     0.0     0.0   \n",
      "2011-01-01 00:30:00     0.0     0.0     0.0     0.0     0.0     0.0     0.0   \n",
      "\n",
      "                     MT_008  MT_009  MT_010  ...  MT_361  MT_362  MT_363  \\\n",
      "2011-01-01 00:15:00     0.0     0.0     0.0  ...     0.0     0.0     0.0   \n",
      "2011-01-01 00:30:00     0.0     0.0     0.0  ...     0.0     0.0     0.0   \n",
      "\n",
      "                     MT_364  MT_365  MT_366  MT_367  MT_368  MT_369  MT_370  \n",
      "2011-01-01 00:15:00     0.0     0.0     0.0     0.0     0.0     0.0     0.0  \n",
      "2011-01-01 00:30:00     0.0     0.0     0.0     0.0     0.0     0.0     0.0  \n",
      "\n",
      "[2 rows x 370 columns]\n"
     ]
    }
   ],
   "source": [
    "print(data.head(2))"
   ]
  },
  {
   "cell_type": "code",
   "execution_count": 12,
   "metadata": {},
   "outputs": [],
   "source": [
    "num_timeseries = data.shape[1]\n",
    "data_kw = data.resample('2H').sum() / 8\n",
    "timeseries = []\n",
    "for i in range(num_timeseries):\n",
    "    timeseries.append(np.trim_zeros(data_kw.iloc[:,i], trim='f'))"
   ]
  },
  {
   "cell_type": "code",
   "execution_count": 30,
   "metadata": {},
   "outputs": [
    {
     "data": {
      "text/plain": [
       "2012-01-01 00:00:00    19.825747\n",
       "2012-01-01 02:00:00    22.848506\n",
       "2012-01-01 04:00:00    21.959459\n",
       "2012-01-01 06:00:00    22.137269\n",
       "2012-01-01 08:00:00    22.581792\n",
       "                         ...    \n",
       "2014-12-31 16:00:00    28.538407\n",
       "2014-12-31 18:00:00    28.449502\n",
       "2014-12-31 20:00:00    24.004267\n",
       "2014-12-31 22:00:00    21.692745\n",
       "2015-01-01 00:00:00     2.489331\n",
       "Freq: 2H, Name: MT_002, Length: 13153, dtype: float64"
      ]
     },
     "execution_count": 30,
     "metadata": {},
     "output_type": "execute_result"
    }
   ],
   "source": [
    "timeseries[1]"
   ]
  },
  {
   "cell_type": "code",
   "execution_count": 39,
   "metadata": {},
   "outputs": [
    {
     "name": "stdout",
     "output_type": "stream",
     "text": [
      "2012-01-01 00:00:00\n",
      "2015-01-01 00:00:00\n"
     ]
    }
   ],
   "source": [
    "# First and last dates\n",
    "print(timeseries[0].index[0])\n",
    "print(timeseries[-1].index[-1])"
   ]
  },
  {
   "cell_type": "code",
   "execution_count": 33,
   "metadata": {},
   "outputs": [],
   "source": [
    "freq = '2H'\n",
    "prediction_length = 7 * 12\n",
    "context_length = 7 * 12\n",
    "start_dataset = pd.Timestamp(\"2014-01-01 00:00:00\", freq=freq)\n",
    "end_training = pd.Timestamp(\"2014-09-01 00:00:00\", freq=freq)"
   ]
  },
  {
   "cell_type": "code",
   "execution_count": 44,
   "metadata": {},
   "outputs": [
    {
     "data": {
      "text/plain": [
       "list"
      ]
     },
     "execution_count": 44,
     "metadata": {},
     "output_type": "execute_result"
    }
   ],
   "source": [
    "# timeseries.index.get_loc(timeseries.loc[:,:,'2014-09-01'].index[0])\n",
    "type(timeseries)"
   ]
  },
  {
   "cell_type": "code",
   "execution_count": 68,
   "metadata": {},
   "outputs": [
    {
     "name": "stdout",
     "output_type": "stream",
     "text": [
      "13152 2014-01-01 00:00:00\n",
      "13152 2014-09-01 00:00:00\n",
      "2014-12-31 22:00:00\n"
     ]
    }
   ],
   "source": [
    "start_training_idx = 0\n",
    "# Get 1st instance of first row in training series\n",
    "for end_training_idx, row in enumerate(timeseries[0].index):\n",
    "    if row == start_dataset:\n",
    "        print(i, row) \n",
    "\n",
    "# Get 1st instance of last row in training series\n",
    "end_training_idx = 0\n",
    "for end_training_idx, row in enumerate(timeseries[0].index):\n",
    "    if row == end_training:\n",
    "        print(i, row) \n",
    "end_training_idx -= 1 # Decrement is required becuase the list offset would include the 1st row of test set\n",
    "print(timeseries[0].index[end_training_idx])"
   ]
  },
  {
   "cell_type": "code",
   "execution_count": 69,
   "metadata": {},
   "outputs": [
    {
     "name": "stdout",
     "output_type": "stream",
     "text": [
      "370\n"
     ]
    }
   ],
   "source": [
    "training_data = [\n",
    "    {\n",
    "        \"start\": str(start_dataset),\n",
    "        \"target\": ts[start_training_idx:end_training_idx].tolist()  # We use -1, because pandas indexing includes the upper bound \n",
    "    }\n",
    "    for ts in timeseries\n",
    "]\n",
    "print(len(training_data))"
   ]
  },
  {
   "cell_type": "code",
   "execution_count": 70,
   "metadata": {},
   "outputs": [
    {
     "name": "stdout",
     "output_type": "stream",
     "text": [
      "1480\n"
     ]
    }
   ],
   "source": [
    "num_test_windows = 4\n",
    "\n",
    "test_data = [\n",
    "    {\n",
    "        \"start\": str(start_dataset),\n",
    "        \"target\": ts[start_training_idx:end_training_idx + k * prediction_length].tolist()\n",
    "    }\n",
    "    for k in range(1, num_test_windows + 1) \n",
    "    for ts in timeseries\n",
    "]\n",
    "print(len(test_data))"
   ]
  },
  {
   "cell_type": "code",
   "execution_count": 73,
   "metadata": {},
   "outputs": [],
   "source": [
    "def write_dicts_to_file(path, data):\n",
    "    with open(path, 'wb') as fp:\n",
    "        for d in data:\n",
    "            fp.write(json.dumps(d).encode(\"utf-8\"))\n",
    "            fp.write(\"\\n\".encode('utf-8'))"
   ]
  },
  {
   "cell_type": "code",
   "execution_count": 76,
   "metadata": {},
   "outputs": [
    {
     "name": "stdout",
     "output_type": "stream",
     "text": [
      "CPU times: user 14.1 s, sys: 146 ms, total: 14.2 s\n",
      "Wall time: 14.3 s\n"
     ]
    }
   ],
   "source": [
    "%%time\n",
    "write_dicts_to_file(\"train.json\", training_data)\n",
    "write_dicts_to_file(\"test.json\", test_data)"
   ]
  },
  {
   "cell_type": "code",
   "execution_count": 78,
   "metadata": {},
   "outputs": [
    {
     "name": "stdout",
     "output_type": "stream",
     "text": [
      "total 2813448\n",
      "-rw-r--r--  1 k  staff   678M May 25 10:14 LD2011_2014.txt\n",
      "-rw-r--r--  1 k  staff   249M May 25 10:13 LD2011_2014.txt.zip\n",
      "-rw-r--r--  1 k  staff    18K May 25 21:31 TSbreakdown.ipynb\n",
      "drwxr-xr-x  3 k  staff    96B May 25 10:14 \u001b[34m__MACOSX\u001b[m\u001b[m\n",
      "-rw-r--r--  1 k  staff   543B Jan 20 10:48 findInDir.js\n",
      "-rw-r--r--  1 k  staff   333M May 25 21:31 test.json\n",
      "-rw-r--r--  1 k  staff    83M May 25 21:31 train.json\n"
     ]
    }
   ],
   "source": [
    "!ls -lh"
   ]
  },
  {
   "cell_type": "code",
   "execution_count": null,
   "metadata": {},
   "outputs": [],
   "source": []
  }
 ],
 "metadata": {
  "kernelspec": {
   "display_name": "Python 3",
   "language": "python",
   "name": "python3"
  },
  "language_info": {
   "codemirror_mode": {
    "name": "ipython",
    "version": 3
   },
   "file_extension": ".py",
   "mimetype": "text/x-python",
   "name": "python",
   "nbconvert_exporter": "python",
   "pygments_lexer": "ipython3",
   "version": "3.7.7"
  }
 },
 "nbformat": 4,
 "nbformat_minor": 4
}
